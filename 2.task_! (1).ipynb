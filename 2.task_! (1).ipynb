{
 "cells": [
  {
   "cell_type": "code",
   "execution_count": 4,
   "id": "4321b35e-0aa3-414d-95e6-9bcbb5b0a973",
   "metadata": {},
   "outputs": [
    {
     "name": "stdout",
     "output_type": "stream",
     "text": [
      "data science mentorship program by campusx"
     ]
    }
   ],
   "source": [
    "print(\"data science mentorship program by campusx\",end='')"
   ]
  },
  {
   "cell_type": "code",
   "execution_count": 7,
   "id": "3e4a6e37-2daf-4802-aa9f-34d1be2df3c3",
   "metadata": {},
   "outputs": [
    {
     "name": "stdin",
     "output_type": "stream",
     "text": [
      "please enter the value in the celsius 67\n"
     ]
    },
    {
     "name": "stdout",
     "output_type": "stream",
     "text": [
      "the temp is 152.6\n"
     ]
    }
   ],
   "source": [
    "import math\n",
    "c=int(input(\"please enter the value in the celsius\"))\n",
    "f=(c*9/5)+32\n",
    "print(\"the temp is\",f)"
   ]
  },
  {
   "cell_type": "code",
   "execution_count": 10,
   "id": "45a74669-b113-4d16-a284-46ccbf2ebe3e",
   "metadata": {},
   "outputs": [
    {
     "name": "stdin",
     "output_type": "stream",
     "text": [
      "please enter a number to swap 90\n",
      "please enter a number to swap 89\n"
     ]
    },
    {
     "name": "stdout",
     "output_type": "stream",
     "text": [
      "the no after swap 89 90\n"
     ]
    }
   ],
   "source": [
    "a=int(input(\"please enter a number to swap\"))\n",
    "b=int(input(\"please enter a number to swap\"))\n",
    "temp=a\n",
    "a=b\n",
    "b=temp\n",
    "print(\"the no after swap\",a,b)"
   ]
  },
  {
   "cell_type": "code",
   "execution_count": 24,
   "id": "3e9b4c5d-774b-4704-8b06-97fa5dd096f2",
   "metadata": {},
   "outputs": [
    {
     "name": "stdin",
     "output_type": "stream",
     "text": [
      "please enter the value of x1 and y1 12 45 \n",
      "please enter the value of x2 and y2 32 65\n"
     ]
    },
    {
     "name": "stdout",
     "output_type": "stream",
     "text": [
      "the resut of eucliden diatance 28.284271247461902\n"
     ]
    }
   ],
   "source": [
    "import math\n",
    "x1,y1= map(float,input(\"please enter the value of x1 and y1\").split())\n",
    "x2,y2= map(float,input(\"please enter the value of x2 and y2\").split())\n",
    "result=math.sqrt((x2-x1)**2 + (y2-y1)**2)\n",
    "print(\"the resut of eucliden diatance\",result)\n"
   ]
  },
  {
   "cell_type": "code",
   "execution_count": 30,
   "id": "6d8236ad-81d2-4544-81e9-3686035cf81d",
   "metadata": {},
   "outputs": [
    {
     "name": "stdin",
     "output_type": "stream",
     "text": [
      "please enter the principal amount 40000\n",
      "please enter the rate of interest 5\n",
      "please enter the time duration in year 12\n"
     ]
    },
    {
     "name": "stdout",
     "output_type": "stream",
     "text": [
      "the simple interst is: 24000.0\n",
      "the total amount u get is 64000.0\n"
     ]
    }
   ],
   "source": [
    "import math\n",
    "p=int(input(\"please enter the principal amount\"))\n",
    "r=int(input(\"please enter the rate of interest\"))\n",
    "t=int(input(\"please enter the time duration in year\"))\n",
    "simple_interest=p*r*t/100\n",
    "print(\"the simple interst is:\",simple_interest)\n",
    "total_amount=simple_interest + p\n",
    "print(\"the total amount u get is\",total_amount)"
   ]
  },
  {
   "cell_type": "code",
   "execution_count": 34,
   "id": "f422b689-53d9-4209-9059-475cae6eea97",
   "metadata": {},
   "outputs": [
    {
     "name": "stdin",
     "output_type": "stream",
     "text": [
      "please enter the the value of n 3\n"
     ]
    },
    {
     "name": "stdout",
     "output_type": "stream",
     "text": [
      "the sum is: 14.0\n"
     ]
    }
   ],
   "source": [
    "import math\n",
    "n=int(input(\"please enter the the value of n\"))\n",
    "formula=n*(n+1)*(2*n+1)/6\n",
    "print(\"the sum is:\",formula)\n"
   ]
  },
  {
   "cell_type": "code",
   "execution_count": 40,
   "id": "f35023df-bc03-47a1-bc30-8d71bf70f526",
   "metadata": {},
   "outputs": [
    {
     "name": "stdin",
     "output_type": "stream",
     "text": [
      "please enter the 1st term 23\n",
      "please enter the send term 45\n"
     ]
    },
    {
     "name": "stdout",
     "output_type": "stream",
     "text": [
      "the common difference 22\n",
      "the nth term is: 67\n"
     ]
    }
   ],
   "source": [
    "a1=int(input(\"please enter the 1st term\"))\n",
    "a2=int(input(\"please enter the send term\"))\n",
    "common_difference=a2-a1\n",
    "print(\"the common difference\",common_difference)\n",
    "n_term=a1 +(n-1)*common_difference\n",
    "print(\"the nth term is:\",n_term)"
   ]
  },
  {
   "cell_type": "code",
   "execution_count": 48,
   "id": "a13dd469-e622-4f40-9c4d-214726cf86ad",
   "metadata": {},
   "outputs": [
    {
     "name": "stdin",
     "output_type": "stream",
     "text": [
      "Please enter the first fraction (like 3/4):  4/5\n",
      "Please enter the second fraction (like 7/2):  6/8\n"
     ]
    },
    {
     "name": "stdout",
     "output_type": "stream",
     "text": [
      "Sum: 31/20\n",
      "Difference: 1/20\n"
     ]
    }
   ],
   "source": [
    "from fractions import Fraction\n",
    "\n",
    "f1 = Fraction(input(\"Please enter the first fraction (like 3/4): \"))\n",
    "f2 = Fraction(input(\"Please enter the second fraction (like 7/2): \"))\n",
    "\n",
    "print(\"Sum:\", f1 + f2)\n",
    "print(\"Difference:\", f1 - f2)\n",
    "\n"
   ]
  },
  {
   "cell_type": "code",
   "execution_count": 49,
   "id": "4e7f204c-f2e4-426b-84c2-2a7b809f46d4",
   "metadata": {},
   "outputs": [
    {
     "name": "stdin",
     "output_type": "stream",
     "text": [
      "Enter the height of the tank (in liters):  12\n",
      "Enter the width of the tank (in liters):  12\n",
      "Enter the breadth of the tank (in liters):  12\n",
      "Enter the volume of one glass (in liters):  12\n"
     ]
    },
    {
     "name": "stdout",
     "output_type": "stream",
     "text": [
      "Number of glasses of milk: 144\n"
     ]
    }
   ],
   "source": [
    "# Assuming all dimensions are in liters\n",
    "height = float(input(\"Enter the height of the tank (in liters): \"))\n",
    "width = float(input(\"Enter the width of the tank (in liters): \"))\n",
    "breadth = float(input(\"Enter the breadth of the tank (in liters): \"))\n",
    "glass_volume = float(input(\"Enter the volume of one glass (in liters): \"))\n",
    "\n",
    "tank_volume = height * width * breadth\n",
    "number_of_glasses = tank_volume / glass_volume\n",
    "\n",
    "print(\"Number of glasses of milk:\", int(number_of_glasses))\n"
   ]
  },
  {
   "cell_type": "code",
   "execution_count": null,
   "id": "6dcf96cc-bd04-43b1-bc59-32482fd64cbf",
   "metadata": {},
   "outputs": [],
   "source": []
  }
 ],
 "metadata": {
  "kernelspec": {
   "display_name": "Python 3 (ipykernel)",
   "language": "python",
   "name": "python3"
  },
  "language_info": {
   "codemirror_mode": {
    "name": "ipython",
    "version": 3
   },
   "file_extension": ".py",
   "mimetype": "text/x-python",
   "name": "python",
   "nbconvert_exporter": "python",
   "pygments_lexer": "ipython3",
   "version": "3.13.1"
  }
 },
 "nbformat": 4,
 "nbformat_minor": 5
}
